{
 "cells": [
  {
   "cell_type": "markdown",
   "id": "85497491",
   "metadata": {
    "ExecuteTime": {
     "end_time": "2024-09-10T07:56:14.133935600Z",
     "start_time": "2024-09-10T07:56:14.122927300Z"
    },
    "collapsed": true
   },
   "source": [
    "# Tutorial: Linear Parametrization of $\\texttt{JKOnet}^\\ast$ in Euclidean space"
   ]
  },
  {
   "cell_type": "markdown",
   "id": "56dc717f",
   "metadata": {},
   "source": [
    "In this tutorial, we will recover the potential within a simplified framework in Euclidean space by utilizing the Linear Parametrization of $\\texttt{JKOnet}^\\ast$. We will create a trajectory which will serve as training data, we will solve the linear system of equations to find the right coefficients and finally we will visualize the outcomes."
   ]
  },
  {
   "cell_type": "markdown",
   "id": "8f882a51",
   "metadata": {},
   "source": [
    "If the potential is parametrized linearly, i.e. $ V_{\\theta}(x) = \\theta^\\top \\phi(x) $, we can find a closed form solution for $\\theta$. We start with an expression of the loss that we aim to minimize and that is explicit in $\\theta$.\n",
    "\n",
    "\\begin{equation}\n",
    "   L(\\theta) = \\sum_{t=0}^{T-1} \\left\\| \\nabla \\phi(x_{t+1})^\\top \\theta + \\frac{1}{\\tau}(x_{t+1}-x_t) \\right\\|^2.\n",
    "\\end{equation}\n",
    "\n",
    "If we derivate and solve $\\nabla{\\theta}\\mathcal{L}(\\theta) = 0$, we get the optimum coefficients for $\\theta$.\n",
    "\n",
    "$$\n",
    "\\theta = -\\frac{1}{\\tau} \\left( \\sum_{t=0}^{T-1} \\nabla \\phi(x_{t+1}) \\nabla \\phi(x_{t+1})^\\top \\right)^{-1} \\left( \\sum_{t=0}^{T-1} \\nabla \\phi(x_{t+1})(x_{t+1}-x_t) \\right).\n",
    "$$"
   ]
  },
  {
   "cell_type": "code",
   "execution_count": 1,
   "id": "6ae56d79",
   "metadata": {},
   "outputs": [],
   "source": [
    "from jax import grad, vmap\n",
    "import jax.numpy as jnp\n",
    "from jax.scipy.linalg import inv\n",
    "from jax.numpy import linalg\n",
    "import matplotlib.pyplot as plt\n",
    "import numpy as np"
   ]
  },
  {
   "cell_type": "markdown",
   "id": "a9ed23f9",
   "metadata": {},
   "source": [
    "## Step 1: Define the Real Potential Function and Its Gradient\n",
    "We define the real potential function and compute its gradient with the autograd feature of JAX."
   ]
  },
  {
   "cell_type": "code",
   "execution_count": 2,
   "id": "401f357b",
   "metadata": {},
   "outputs": [],
   "source": [
    "def V_real(x):\n",
    "    return -x**2 + 30*x\n",
    "grad_V_real = grad(V_real)"
   ]
  },
  {
   "cell_type": "markdown",
   "id": "66c2ca67",
   "metadata": {},
   "source": [
    "## Step 2: Define the Features\n",
    "In this simple case it suffices with polynomial features. We define both $\\phi$ and $\\nabla\\phi$."
   ]
  },
  {
   "cell_type": "code",
   "execution_count": 3,
   "id": "6b584d13",
   "metadata": {},
   "outputs": [],
   "source": [
    "def phi_x(x):\n",
    "    return jnp.array([x, x**2])\n",
    "def grad_phi_x(x):\n",
    "    return jnp.array([1, 2*x])"
   ]
  },
  {
   "cell_type": "markdown",
   "id": "4a81ddb2",
   "metadata": {},
   "source": [
    "## Step 3: Generate Training\n",
    "We generate a trajectory according to the explicit scheme\n",
    "$$\n",
    "x_{t+1} = x_{t} - \\tau \\nabla V(x_{t}, t).\n",
    "$$"
   ]
  },
  {
   "cell_type": "code",
   "execution_count": 4,
   "id": "203bc55f",
   "metadata": {},
   "outputs": [],
   "source": [
    "#Generate the data points so that they follow the potential\n",
    "x_value = 10.0\n",
    "num_iterations = 101\n",
    "x_array = jnp.zeros(num_iterations)\n",
    "tau = 0.01\n",
    "\n",
    "for i in range(num_iterations):\n",
    "    x_array = x_array.at[i].set(x_value)\n",
    "    x_value = x_value - tau * grad_V_real(x_value)"
   ]
  },
  {
   "cell_type": "markdown",
   "id": "901c5e1f",
   "metadata": {},
   "source": [
    "## Step 4: Solving the Linear System of Equations\n",
    "We solve the linear system of equations.\n",
    "$$\n",
    "M = \\left( \\sum_{t=0}^{T-1} \\nabla \\phi(x_{t+1}) \\nabla \\phi(x_{t+1})^\\top \\right)\n",
    "$$\n",
    "\n",
    "$$\n",
    "V= \\left( \\sum_{t=0}^{T-1} \\nabla \\phi(x_{t+1})(x_{t+1}-x_t) \\right)\n",
    "$$\n",
    "\n",
    "\n",
    "$$\n",
    "\\theta = \\frac{1}{\\tau} \\cdot \\left( - \\mathbf{M}^{-1} \\cdot \\mathbf{V} \\right)\n",
    "$$\n"
   ]
  },
  {
   "cell_type": "code",
   "execution_count": 5,
   "id": "faa34eaa",
   "metadata": {},
   "outputs": [],
   "source": [
    "#Non-vectorized approach\n",
    "# M=0\n",
    "# V=0\n",
    "# for i in range(len(x_array)-1):\n",
    "#     M += jnp.outer(grad_phi_x(x_array[i+1]),grad_phi_x(x_array[i+1]))\n",
    "#     V += grad_phi_x(x_array[i+1]) * (x_array[i+1]-x_array[i])\n",
    "\n",
    "#Vectorized approach\n",
    "grad_phi_x_mapped = vmap(grad_phi_x)\n",
    "x_diff = x_array[1:] - x_array[:-1]\n",
    "M = jnp.sum(vmap(jnp.outer)(grad_phi_x_mapped(x_array[1:]), grad_phi_x_mapped(x_array[1:])), axis=0)\n",
    "V = jnp.sum(grad_phi_x_mapped(x_array[1:]) * x_diff[:, jnp.newaxis], axis=0)\n",
    "\n",
    "teta = 1/tau * jnp.dot(-inv(M),V)"
   ]
  },
  {
   "cell_type": "markdown",
   "id": "d8b0427b",
   "metadata": {},
   "source": [
    "## Step 5: Reconstruct Potential and Generate Predicted Trajectories\n",
    "Once we have $\\theta$ we can reconstruct the potential with the features. Finally, we generate the predicted trajectory."
   ]
  },
  {
   "cell_type": "code",
   "execution_count": 6,
   "id": "47444a5a",
   "metadata": {},
   "outputs": [],
   "source": [
    "def potential(x):\n",
    "    phi_x_value = phi_x(x)\n",
    "    return jnp.dot(phi_x_value, teta).squeeze()\n",
    "grad_potential = grad(potential)\n",
    "\n",
    "x_reconstructed = jnp.zeros(num_iterations)\n",
    "t_values = jnp.linspace(0, 1, num_iterations)\n",
    "x_value = 10.0\n",
    "for i in range(num_iterations):\n",
    "    x_reconstructed = x_reconstructed.at[i].set(x_value)\n",
    "    x_value = x_value - tau * grad_potential(x_value)\n"
   ]
  },
  {
   "cell_type": "markdown",
   "id": "d997257b",
   "metadata": {},
   "source": [
    "## Step 6: Plotting the results\n",
    "We plot the learned and real trajectories to visualize the performance of our model."
   ]
  },
  {
   "cell_type": "code",
   "execution_count": 7,
   "id": "6c3a7d957cb2041e",
   "metadata": {
    "ExecuteTime": {
     "end_time": "2024-09-23T12:15:53.782765400Z",
     "start_time": "2024-09-23T12:15:52.922016500Z"
    }
   },
   "outputs": [
    {
     "data": {
      "image/png": "[encoded data removed]",
      "text/plain": [
       "<Figure size 800x600 with 1 Axes>"
      ]
     },
     "metadata": {},
     "output_type": "display_data"
    }
   ],
   "source": [
    "# Plotting the trajectories\n",
    "plt.figure(figsize=(8, 6))\n",
    "\n",
    "plt.plot(x_reconstructed, label='Learned Trajectory', linestyle='--', marker='o')\n",
    "plt.plot(x_array, label='Real Trajectory',linestyle='-', marker='x')\n",
    "plt.xlabel('Step')\n",
    "plt.ylabel('x value')\n",
    "plt.title('Comparison of Trajectories')\n",
    "plt.legend()\n",
    "plt.show()\n",
    "\n",
    "# np.savetxt('Linear/traj_pred.txt', np.column_stack(\n",
    "#             (t_values, x_reconstructed.T)), fmt='%-7.4f')\n",
    "# \n",
    "# np.savetxt('Linear/traj_real.txt', np.column_stack(\n",
    "#                 (t_values, x_array.T)), fmt='%-7.4f')"
   ]
  },
  {
   "cell_type": "markdown",
   "id": "5158f92d",
   "metadata": {},
   "source": []
  },
  {
   "cell_type": "code",
   "execution_count": null,
   "id": "9b1ee45f7b93fa5a",
   "metadata": {},
   "outputs": [],
   "source": []
  }
 ],
 "metadata": {
  "kernelspec": {
   "display_name": "Python 3 (ipykernel)",
   "language": "python",
   "name": "python3"
  },
  "language_info": {
   "codemirror_mode": {
    "name": "ipython",
    "version": 3
   },
   "file_extension": ".py",
   "mimetype": "text/x-python",
   "name": "python",
   "nbconvert_exporter": "python",
   "pygments_lexer": "ipython3",
   "version": "3.9.13"
  }
 },
 "nbformat": 4,
 "nbformat_minor": 5
}
